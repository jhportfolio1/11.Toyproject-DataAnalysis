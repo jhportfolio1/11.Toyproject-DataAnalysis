{
  "nbformat": 4,
  "nbformat_minor": 0,
  "metadata": {
    "colab": {
      "provenance": []
    },
    "kernelspec": {
      "name": "python3",
      "display_name": "Python 3"
    },
    "language_info": {
      "name": "python"
    }
  },
  "cells": [
    {
      "cell_type": "markdown",
      "source": [
        "# <삼성 LG 주가 상관관계 분석>"
      ],
      "metadata": {
        "id": "26B7GxsfgdQ3"
      }
    },
    {
      "cell_type": "code",
      "source": [
        "import pandas as pd \n",
        "import numpy as np\n",
        "import matplotlib.pyplot as plt\n",
        "import seaborn as sns"
      ],
      "metadata": {
        "id": "uTO6u6JggfuK"
      },
      "execution_count": 1,
      "outputs": []
    },
    {
      "cell_type": "markdown",
      "source": [
        "# 1. 주식 데이터 불러오기"
      ],
      "metadata": {
        "id": "1SDaA5mbkR15"
      }
    },
    {
      "cell_type": "code",
      "source": [
        "df = pd.read_csv('Data.csv')\n",
        "df['date'] = pd.to_datetime(df['date'])\n",
        "df.set_index('date', inplace=True)\n",
        "\n",
        "print(df)"
      ],
      "metadata": {
        "colab": {
          "base_uri": "https://localhost:8080/"
        },
        "id": "dHI2cLHyj90Q",
        "outputId": "624df083-5aed-4228-cb18-2e75ec0f221c"
      },
      "execution_count": 2,
      "outputs": [
        {
          "output_type": "stream",
          "name": "stdout",
          "text": [
            "            samsung_price  lg_price\n",
            "date                               \n",
            "2023-06-08          70900    126700\n",
            "2023-06-07          71000    125700\n",
            "2023-06-05          71700    127200\n",
            "2023-06-02          72200    123100\n",
            "2023-06-01          70900    123000\n",
            "...                   ...       ...\n",
            "2022-06-14          61900     95300\n",
            "2022-06-13          62100     95100\n",
            "2022-06-10          63800    100500\n",
            "2022-06-09          65200    102500\n",
            "2022-06-08          65300    102000\n",
            "\n",
            "[249 rows x 2 columns]\n"
          ]
        }
      ]
    },
    {
      "cell_type": "markdown",
      "source": [
        "# 2. 두 종목의 수익률 계산\n",
        "﻿pct_change()를 사용하여 각 종목의 수익률을 게산합니다."
      ],
      "metadata": {
        "id": "9_hbvPi7l85A"
      }
    },
    {
      "cell_type": "code",
      "source": [
        "returns = df.pct_change()\n",
        "print(returns)"
      ],
      "metadata": {
        "colab": {
          "base_uri": "https://localhost:8080/"
        },
        "id": "BU3WyrjvlV1K",
        "outputId": "bbc140c8-4310-4eee-92bb-b578718f53ae"
      },
      "execution_count": 4,
      "outputs": [
        {
          "output_type": "stream",
          "name": "stdout",
          "text": [
            "            samsung_price  lg_price\n",
            "date                               \n",
            "2023-06-08            NaN       NaN\n",
            "2023-06-07       0.001410 -0.007893\n",
            "2023-06-05       0.009859  0.011933\n",
            "2023-06-02       0.006974 -0.032233\n",
            "2023-06-01      -0.018006 -0.000812\n",
            "...                   ...       ...\n",
            "2022-06-14       0.019769  0.022532\n",
            "2022-06-13       0.003231 -0.002099\n",
            "2022-06-10       0.027375  0.056782\n",
            "2022-06-09       0.021944  0.019900\n",
            "2022-06-08       0.001534 -0.004878\n",
            "\n",
            "[249 rows x 2 columns]\n"
          ]
        }
      ]
    },
    {
      "cell_type": "markdown",
      "source": [
        "# 3. 수익률 간의 상관 계수 계산\n",
        "﻿\n",
        "두 종목의 날짜에 따른 종가가 서로 얼마나 상관이 있는지 상관계수를 계산합니다.\n",
        "\n",
        "\n",
        "상관 계수는 -1에서 1사이의 값을 가지는데,\n",
        "\n",
        "1에 가까울수록 양의 상관관계,\n",
        "\n",
        "-1에 가까울수록 음의 상관관계,\n",
        "\n",
        "0에 가까울수록 상관이 없는 것으로 판단하면 됩니다!\n",
        "\n",
        "﻿"
      ],
      "metadata": {
        "id": "N6UTj8mZl_Fw"
      }
    },
    {
      "cell_type": "code",
      "source": [
        "corr_matrix = returns.corr()\n",
        "print(corr_matrix)"
      ],
      "metadata": {
        "colab": {
          "base_uri": "https://localhost:8080/"
        },
        "id": "41QRJX17lv9n",
        "outputId": "45f085ed-9348-4783-ca30-3621440a902e"
      },
      "execution_count": 5,
      "outputs": [
        {
          "output_type": "stream",
          "name": "stdout",
          "text": [
            "               samsung_price  lg_price\n",
            "samsung_price        1.00000   0.45179\n",
            "lg_price             0.45179   1.00000\n"
          ]
        }
      ]
    },
    {
      "cell_type": "markdown",
      "source": [
        "# 4. 히트맵 그리기"
      ],
      "metadata": {
        "id": "eIH_Hl1Ymvn5"
      }
    },
    {
      "cell_type": "code",
      "source": [
        "sns.heatmap(corr_matrix, annot=True, cmap='coolwarm')\n",
        "plt.title('Stock Returns Correlation between Samsung and LG')\n",
        "plt.show()"
      ],
      "metadata": {
        "colab": {
          "base_uri": "https://localhost:8080/",
          "height": 452
        },
        "id": "sX0bymnImDxa",
        "outputId": "07924310-2909-439e-a736-dd5596f45b65"
      },
      "execution_count": 6,
      "outputs": [
        {
          "output_type": "display_data",
          "data": {
            "text/plain": [
              "<Figure size 640x480 with 2 Axes>"
            ],
            "image/png": "[encoded data removed]"
          },
          "metadata": {}
        }
      ]
    },
    {
      "cell_type": "code",
      "source": [],
      "metadata": {
        "id": "cHfiKz7Hm9O7"
      },
      "execution_count": null,
      "outputs": []
    }
  ]
}